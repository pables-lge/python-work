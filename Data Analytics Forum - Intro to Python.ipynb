{
 "cells": [
  {
   "cell_type": "code",
   "execution_count": 69,
   "id": "002a48c0",
   "metadata": {},
   "outputs": [
    {
     "name": "stdout",
     "output_type": "stream",
     "text": [
      "Hello\n",
      "42\n",
      "3.1415\n",
      "Hello 42 3.1415\n"
     ]
    }
   ],
   "source": [
    "# Declare a variable\n",
    "a_var = \"Hello\"\n",
    "b_var = 42\n",
    "c_var = 3.1415\n",
    "\n",
    "# Print a variable\n",
    "print(a_var)\n",
    "print(b_var)\n",
    "print(c_var)\n",
    "\n",
    "print(a_var, b_var, c_var)"
   ]
  },
  {
   "cell_type": "code",
   "execution_count": 71,
   "id": "67d68ccc",
   "metadata": {},
   "outputs": [
    {
     "name": "stdout",
     "output_type": "stream",
     "text": [
      "<class 'str'>\n",
      "<class 'int'>\n",
      "<class 'float'>\n"
     ]
    }
   ],
   "source": [
    "# Show the data type of a variable\n",
    "print(type(a_var))\n",
    "print(type(b_var))\n",
    "print(type(c_var))"
   ]
  },
  {
   "cell_type": "code",
   "execution_count": 72,
   "id": "086533dd",
   "metadata": {},
   "outputs": [
    {
     "name": "stdout",
     "output_type": "stream",
     "text": [
      "Hello World\n",
      "\n",
      "        Line 1\n",
      "        Line 2\n",
      "        Line 3\n",
      "        \n"
     ]
    }
   ],
   "source": [
    "# Declare a string\n",
    "a_str = 'Hello World'\n",
    "b_str = '''\n",
    "        Line 1\n",
    "        Line 2\n",
    "        Line 3\n",
    "        '''\n",
    "\n",
    "# Print a string\n",
    "print(a_str)\n",
    "print(b_str)"
   ]
  },
  {
   "cell_type": "code",
   "execution_count": 73,
   "id": "f6ecf673",
   "metadata": {},
   "outputs": [
    {
     "name": "stdout",
     "output_type": "stream",
     "text": [
      "hello wOrld\n",
      "Hello World\n",
      "HELLO WORLD\n"
     ]
    }
   ],
   "source": [
    "# Strings can be printed in 'Title' formatting, and other examples\n",
    "a_str = 'hello wOrld'\n",
    "b_str = a_str.title()\n",
    "c_str = a_str.upper()\n",
    "\n",
    "print(a_str)\n",
    "print(b_str)\n",
    "print(c_str)"
   ]
  },
  {
   "cell_type": "code",
   "execution_count": 85,
   "id": "50d83e0f",
   "metadata": {},
   "outputs": [
    {
     "name": "stdout",
     "output_type": "stream",
     "text": [
      "13 7\n",
      "30 1\n"
     ]
    }
   ],
   "source": [
    "# Mathematical Orders of Operation\n",
    "a = 10\n",
    "b = 3\n",
    "\n",
    "# Addition and Subtraction\n",
    "c1 = a + b\n",
    "c2 = a - b\n",
    "\n",
    "print(c1,c2)\n",
    "\n",
    "# Multiply and Divide (with denominator showing all decimals w/ remainder)\n",
    "c3 = a * b\n",
    "c4 = a % b\n",
    "\n",
    "print(c3, c4)"
   ]
  },
  {
   "cell_type": "code",
   "execution_count": 75,
   "id": "c01c6c57",
   "metadata": {},
   "outputs": [
    {
     "name": "stdout",
     "output_type": "stream",
     "text": [
      "Enter some data: 50\n",
      "You entered: 50\n",
      "<class 'str'>\n",
      "Your entry + 99 =  149\n"
     ]
    }
   ],
   "source": [
    "#Input function. Whatever I input into the text box, gets stored as the data. Check the data type!\n",
    "data = input('Enter some data: ')\n",
    "\n",
    "print('You entered:', data)\n",
    "print(type(data))\n",
    "\n",
    "answer = int(data) + 99\n",
    "print('Your entry + 99 = ',answer)"
   ]
  },
  {
   "cell_type": "code",
   "execution_count": 77,
   "id": "0607ae94",
   "metadata": {},
   "outputs": [
    {
     "name": "stdout",
     "output_type": "stream",
     "text": [
      "Enter a Celsius temperature: 40\n",
      "You entered: 40\n",
      "<class 'str'>\n",
      "Converted Fahrenheit temperature: 104.0\n"
     ]
    }
   ],
   "source": [
    "# Fun Exercise 1: Write a Celsius-to-Fahrenheit converter\n",
    "\n",
    "data = input('Enter a Celsius temperature: ')\n",
    "print('You entered:', data)\n",
    "print(type(data))\n",
    "\n",
    "answer = ((9*int(data))/5) + 32\n",
    "print('Converted Fahrenheit temperature:', answer)"
   ]
  },
  {
   "cell_type": "code",
   "execution_count": 79,
   "id": "881582f4",
   "metadata": {},
   "outputs": [
    {
     "name": "stdout",
     "output_type": "stream",
     "text": [
      "Enter a number: 3\n",
      "Small Number\n"
     ]
    }
   ],
   "source": [
    "# If, Else statement\n",
    "data = input('Enter a number: ')\n",
    "num = int(data)\n",
    "\n",
    "if num > 10:\n",
    "    print('Big Number')\n",
    "    a_var = 'Flagged - Big Number!'\n",
    "    print(a_var)\n",
    "else:\n",
    "    print('Small Number')"
   ]
  },
  {
   "cell_type": "code",
   "execution_count": 80,
   "id": "fea924d8",
   "metadata": {},
   "outputs": [
    {
     "name": "stdout",
     "output_type": "stream",
     "text": [
      "Pick a number between 1 and 1000\n",
      "Is 500 your number? n\n",
      "Is 500 (h)igh or (l)ow? h\n",
      "Is 250 your number? n\n",
      "Is 250 (h)igh or (l)ow? l\n",
      "Is 375 your number? n\n",
      "Is 375 (h)igh or (l)ow? h\n",
      "Is 312 your number? n\n",
      "Is 312 (h)igh or (l)ow? h\n",
      "Is 281 your number? n\n",
      "Is 281 (h)igh or (l)ow? l\n",
      "Is 296 your number? n\n",
      "Is 296 (h)igh or (l)ow? l\n",
      "Is 304 your number? n\n",
      "Is 304 (h)igh or (l)ow? h\n",
      "Is 300 your number? n\n",
      "Is 300 (h)igh or (l)ow? h\n",
      "Is 298 your number? n\n",
      "Is 298 (h)igh or (l)ow? h\n",
      "Is 297 your number? y\n"
     ]
    }
   ],
   "source": [
    "# Fun Exercise 2: Write a script that picks your number\n",
    "MIN_VAL = 0\n",
    "MAX_VAL = 1001\n",
    "\n",
    "print('Pick a number between 1 and 1000')\n",
    "while True:\n",
    "    guess = (MIN_VAL + MAX_VAL) // 2\n",
    "    prompt = 'Is {} your number? '.format(guess)\n",
    "    ans = input(prompt)\n",
    "    if ans == 'y':\n",
    "        break\n",
    "    ans = input(f'Is {guess} (h)igh or (l)ow? ')\n",
    "    if ans == 'h':\n",
    "        MAX_VAL = guess\n",
    "    else:\n",
    "        MIN_VAL = guess"
   ]
  },
  {
   "cell_type": "code",
   "execution_count": 81,
   "id": "87b4c0c4",
   "metadata": {},
   "outputs": [
    {
     "name": "stdout",
     "output_type": "stream",
     "text": [
      "['apple', 'cherry', 'orange', 'kiwi', 'banana', 'pear', 'lemon', 'fig']\n",
      "\n",
      " orange\n",
      "\n",
      " ['apple', 'cherry', 'lime', 'kiwi', 'banana', 'pear', 'lemon', 'fig']\n",
      "\n",
      " ['apple', 'cherry', 'lime', 'kiwi', 'banana', 'pear', 'lemon', 'fig', 'grape', 'apricot']\n",
      "\n",
      " ['apple', 'cherry', 'lime', 'banana', 'pear', 'lemon', 'fig', 'grape', 'apricot']\n"
     ]
    }
   ],
   "source": [
    "# Creating and printing lists\n",
    "fruits = ['apple', 'cherry', 'orange', 'kiwi', 'banana', 'pear', 'lemon', 'fig']\n",
    "\n",
    "print(fruits)\n",
    "\n",
    "item = fruits[2]\n",
    "print('\\n',item)\n",
    "\n",
    "# Replacing a list item with a new value\n",
    "fruits[2] = 'lime'\n",
    "print('\\n',fruits)\n",
    "\n",
    "# Appending a list\n",
    "fruits.append('grape')\n",
    "fruits.append('apricot')\n",
    "print('\\n',fruits)\n",
    "\n",
    "# Remove items from a list\n",
    "fruits.remove('kiwi')\n",
    "print('\\n',fruits)"
   ]
  },
  {
   "cell_type": "code",
   "execution_count": 82,
   "id": "25aabe1f",
   "metadata": {},
   "outputs": [
    {
     "name": "stdout",
     "output_type": "stream",
     "text": [
      "1\n",
      "2\n",
      "4\n",
      "8\n",
      "16\n",
      "32\n",
      "64\n",
      "128\n",
      "256\n",
      "512\n",
      "1024\n",
      "2048\n",
      "4096\n",
      "8192\n",
      "16384\n",
      "32768\n",
      "65536\n",
      "131072\n",
      "262144\n",
      "524288\n",
      "1048576\n",
      "2097152\n",
      "4194304\n",
      "8388608\n",
      "16777216\n",
      "33554432\n",
      "67108864\n",
      "134217728\n",
      "268435456\n",
      "536870912\n"
     ]
    }
   ],
   "source": [
    "# Fun Exercise #3: Print all the powers of 2 from 2**0 to 2**30\n",
    "for item in range(0, 30):\n",
    "    print(2**item)"
   ]
  },
  {
   "cell_type": "code",
   "execution_count": 83,
   "id": "cb22d2da",
   "metadata": {},
   "outputs": [
    {
     "name": "stdout",
     "output_type": "stream",
     "text": [
      "mango apple peach plum apricot banana persimmon \n",
      "\n"
     ]
    }
   ],
   "source": [
    "# Fun Exercise #4: Clean a list of data values by converting to lower-case & trim white space\n",
    "fruits = ['     MANGO', 'Apple', '   peach   ', 'PLUM    ', '   Apricot', 'BaNaNa', 'Persimmon   ']\n",
    "\n",
    "clean = [f.strip().lower() for f in fruits]\n",
    "for c in clean:\n",
    "    print(\"{}\".format(c), end=' ')\n",
    "print(\"\\n\")"
   ]
  },
  {
   "cell_type": "code",
   "execution_count": 86,
   "id": "0d30214c",
   "metadata": {},
   "outputs": [
    {
     "name": "stdout",
     "output_type": "stream",
     "text": [
      "{'IAD': 'Dulles', 'SEA': 'Seattle-Tacoma', 'RDU': 'Raleigh-Durham', 'LAX': 'Los Angeles'} \n",
      "\n",
      "Enter a 3-letter airport code: SEA\n",
      "The full airport name for SEA is: Seattle-Tacoma\n"
     ]
    }
   ],
   "source": [
    "# Create a dictionary\n",
    "airports = {'IAD': 'Dulles', 'SEA': 'Seattle-Tacoma', 'RDU': 'Raleigh-Durham', 'LAX':'Los Angeles'}\n",
    "print(airports,\"\\n\")\n",
    "\n",
    "# Lookup a value in the dictionary\n",
    "airport_prompt = input('Enter a 3-letter airport code: ')\n",
    "print('The full airport name for',airport_prompt,'is:',airports[airport_prompt])"
   ]
  },
  {
   "cell_type": "code",
   "execution_count": 87,
   "id": "7870ff66",
   "metadata": {},
   "outputs": [
    {
     "name": "stdout",
     "output_type": "stream",
     "text": [
      "Fleck, Bela - 88 - C\n",
      "Phillips, Todd - 98 - A\n",
      "Anger, Darol - 95 - A\n",
      "Marshall, Mike - 56 - F\n",
      "Brown, Alison - 45 - F\n",
      "Monroe, Bill - 88 - C\n",
      "Watson, Doc - 91 - B\n",
      "Rowan, Peter - 95 - A\n",
      "Thile, Chris - 76 - D\n",
      "Rice, Tony - 77 - D\n",
      "Wooten, Victor - 99 - A\n",
      "Bush, Sam - 87 - C\n",
      "O'Brien, Tim - 92 - B\n",
      "Klein, Moondi - 81 - D\n",
      "McMasters, Natalie - 97 - A\n",
      "Nevins, Tara - 72 - F\n",
      "Burns, Jethro - 86 - C\n",
      "Scott, Darrel - 91 - B\n"
     ]
    }
   ],
   "source": [
    "# Fun Exercise #5: Grading Scale Dictionary\n",
    "scores = {}\n",
    "\n",
    "with open('DATA/testscores.dat') as fh:\n",
    "    for line in fh:\n",
    "        name, score = line.split(':')\n",
    "        scores[name] = int(score)\n",
    "\n",
    "for name, score in scores.items():\n",
    "    if score >= 95:\n",
    "        grade = 'A'\n",
    "    elif score >= 89:\n",
    "        grade = 'B'\n",
    "    elif score >= 83:\n",
    "        grade = 'C'\n",
    "    elif score >= 75:\n",
    "        grade = 'D'\n",
    "    else:\n",
    "        grade = 'F'\n",
    "    print(f'{name} - {score} - {grade}')"
   ]
  },
  {
   "cell_type": "code",
   "execution_count": 89,
   "id": "7befa5e7",
   "metadata": {},
   "outputs": [],
   "source": [
    "# Introduction to Pandas!\n",
    "import pandas as pd\n",
    "\n",
    "# Get system info on pandas\n",
    "pd?"
   ]
  },
  {
   "cell_type": "code",
   "execution_count": 90,
   "id": "d632347d",
   "metadata": {},
   "outputs": [
    {
     "name": "stdout",
     "output_type": "stream",
     "text": [
      "a     42\n",
      "b     99\n",
      "c    163\n",
      "d     99\n",
      "dtype: int64\n"
     ]
    }
   ],
   "source": [
    "# Load a pandas series, with index\n",
    "my_series = pd.Series([42, 99, 163, 99], index=['a', 'b', 'c', 'd'])\n",
    "\n",
    "print(my_series)"
   ]
  },
  {
   "cell_type": "code",
   "execution_count": 93,
   "id": "298792a7",
   "metadata": {},
   "outputs": [
    {
     "name": "stdout",
     "output_type": "stream",
     "text": [
      "Mean =  100.75\n",
      "Median =  99.0\n",
      "Std Deviation =  49.439356791932475\n"
     ]
    }
   ],
   "source": [
    "# Perform summary statistics on your series\n",
    "print('Mean = ',my_series.mean())\n",
    "print('Median = ',my_series.median())\n",
    "print('Std Deviation = ',my_series.std())"
   ]
  },
  {
   "cell_type": "code",
   "execution_count": 94,
   "id": "46e7c66c",
   "metadata": {},
   "outputs": [],
   "source": [
    "# Declare a data frame (like a spreadsheet) by importing a csv\n",
    "df = pd.read_csv('DATA/titanic3.csv', header=0)"
   ]
  },
  {
   "cell_type": "code",
   "execution_count": 95,
   "id": "1dcf99a0",
   "metadata": {},
   "outputs": [
    {
     "data": {
      "text/html": [
       "<div>\n",
       "<style scoped>\n",
       "    .dataframe tbody tr th:only-of-type {\n",
       "        vertical-align: middle;\n",
       "    }\n",
       "\n",
       "    .dataframe tbody tr th {\n",
       "        vertical-align: top;\n",
       "    }\n",
       "\n",
       "    .dataframe thead th {\n",
       "        text-align: right;\n",
       "    }\n",
       "</style>\n",
       "<table border=\"1\" class=\"dataframe\">\n",
       "  <thead>\n",
       "    <tr style=\"text-align: right;\">\n",
       "      <th></th>\n",
       "      <th>pclass</th>\n",
       "      <th>survived</th>\n",
       "      <th>name</th>\n",
       "      <th>sex</th>\n",
       "      <th>age</th>\n",
       "      <th>sibsp</th>\n",
       "      <th>parch</th>\n",
       "      <th>ticket</th>\n",
       "      <th>fare</th>\n",
       "      <th>cabin</th>\n",
       "      <th>embarked</th>\n",
       "      <th>boat</th>\n",
       "      <th>body</th>\n",
       "      <th>home.dest</th>\n",
       "    </tr>\n",
       "  </thead>\n",
       "  <tbody>\n",
       "    <tr>\n",
       "      <th>0</th>\n",
       "      <td>1</td>\n",
       "      <td>1</td>\n",
       "      <td>Allen, Miss. Elisabeth Walton</td>\n",
       "      <td>female</td>\n",
       "      <td>29.0000</td>\n",
       "      <td>0</td>\n",
       "      <td>0</td>\n",
       "      <td>24160</td>\n",
       "      <td>211.3375</td>\n",
       "      <td>B5</td>\n",
       "      <td>S</td>\n",
       "      <td>2</td>\n",
       "      <td>NaN</td>\n",
       "      <td>St Louis, MO</td>\n",
       "    </tr>\n",
       "    <tr>\n",
       "      <th>1</th>\n",
       "      <td>1</td>\n",
       "      <td>1</td>\n",
       "      <td>Allison, Master. Hudson Trevor</td>\n",
       "      <td>male</td>\n",
       "      <td>0.9167</td>\n",
       "      <td>1</td>\n",
       "      <td>2</td>\n",
       "      <td>113781</td>\n",
       "      <td>151.5500</td>\n",
       "      <td>C22 C26</td>\n",
       "      <td>S</td>\n",
       "      <td>11</td>\n",
       "      <td>NaN</td>\n",
       "      <td>Montreal, PQ / Chesterville, ON</td>\n",
       "    </tr>\n",
       "    <tr>\n",
       "      <th>2</th>\n",
       "      <td>1</td>\n",
       "      <td>0</td>\n",
       "      <td>Allison, Miss. Helen Loraine</td>\n",
       "      <td>female</td>\n",
       "      <td>2.0000</td>\n",
       "      <td>1</td>\n",
       "      <td>2</td>\n",
       "      <td>113781</td>\n",
       "      <td>151.5500</td>\n",
       "      <td>C22 C26</td>\n",
       "      <td>S</td>\n",
       "      <td>NaN</td>\n",
       "      <td>NaN</td>\n",
       "      <td>Montreal, PQ / Chesterville, ON</td>\n",
       "    </tr>\n",
       "    <tr>\n",
       "      <th>3</th>\n",
       "      <td>1</td>\n",
       "      <td>0</td>\n",
       "      <td>Allison, Mr. Hudson Joshua Creighton</td>\n",
       "      <td>male</td>\n",
       "      <td>30.0000</td>\n",
       "      <td>1</td>\n",
       "      <td>2</td>\n",
       "      <td>113781</td>\n",
       "      <td>151.5500</td>\n",
       "      <td>C22 C26</td>\n",
       "      <td>S</td>\n",
       "      <td>NaN</td>\n",
       "      <td>135.0</td>\n",
       "      <td>Montreal, PQ / Chesterville, ON</td>\n",
       "    </tr>\n",
       "    <tr>\n",
       "      <th>4</th>\n",
       "      <td>1</td>\n",
       "      <td>0</td>\n",
       "      <td>Allison, Mrs. Hudson J C (Bessie Waldo Daniels)</td>\n",
       "      <td>female</td>\n",
       "      <td>25.0000</td>\n",
       "      <td>1</td>\n",
       "      <td>2</td>\n",
       "      <td>113781</td>\n",
       "      <td>151.5500</td>\n",
       "      <td>C22 C26</td>\n",
       "      <td>S</td>\n",
       "      <td>NaN</td>\n",
       "      <td>NaN</td>\n",
       "      <td>Montreal, PQ / Chesterville, ON</td>\n",
       "    </tr>\n",
       "    <tr>\n",
       "      <th>...</th>\n",
       "      <td>...</td>\n",
       "      <td>...</td>\n",
       "      <td>...</td>\n",
       "      <td>...</td>\n",
       "      <td>...</td>\n",
       "      <td>...</td>\n",
       "      <td>...</td>\n",
       "      <td>...</td>\n",
       "      <td>...</td>\n",
       "      <td>...</td>\n",
       "      <td>...</td>\n",
       "      <td>...</td>\n",
       "      <td>...</td>\n",
       "      <td>...</td>\n",
       "    </tr>\n",
       "    <tr>\n",
       "      <th>1304</th>\n",
       "      <td>3</td>\n",
       "      <td>0</td>\n",
       "      <td>Zabour, Miss. Hileni</td>\n",
       "      <td>female</td>\n",
       "      <td>14.5000</td>\n",
       "      <td>1</td>\n",
       "      <td>0</td>\n",
       "      <td>2665</td>\n",
       "      <td>14.4542</td>\n",
       "      <td>NaN</td>\n",
       "      <td>C</td>\n",
       "      <td>NaN</td>\n",
       "      <td>328.0</td>\n",
       "      <td>NaN</td>\n",
       "    </tr>\n",
       "    <tr>\n",
       "      <th>1305</th>\n",
       "      <td>3</td>\n",
       "      <td>0</td>\n",
       "      <td>Zabour, Miss. Thamine</td>\n",
       "      <td>female</td>\n",
       "      <td>NaN</td>\n",
       "      <td>1</td>\n",
       "      <td>0</td>\n",
       "      <td>2665</td>\n",
       "      <td>14.4542</td>\n",
       "      <td>NaN</td>\n",
       "      <td>C</td>\n",
       "      <td>NaN</td>\n",
       "      <td>NaN</td>\n",
       "      <td>NaN</td>\n",
       "    </tr>\n",
       "    <tr>\n",
       "      <th>1306</th>\n",
       "      <td>3</td>\n",
       "      <td>0</td>\n",
       "      <td>Zakarian, Mr. Mapriededer</td>\n",
       "      <td>male</td>\n",
       "      <td>26.5000</td>\n",
       "      <td>0</td>\n",
       "      <td>0</td>\n",
       "      <td>2656</td>\n",
       "      <td>7.2250</td>\n",
       "      <td>NaN</td>\n",
       "      <td>C</td>\n",
       "      <td>NaN</td>\n",
       "      <td>304.0</td>\n",
       "      <td>NaN</td>\n",
       "    </tr>\n",
       "    <tr>\n",
       "      <th>1307</th>\n",
       "      <td>3</td>\n",
       "      <td>0</td>\n",
       "      <td>Zakarian, Mr. Ortin</td>\n",
       "      <td>male</td>\n",
       "      <td>27.0000</td>\n",
       "      <td>0</td>\n",
       "      <td>0</td>\n",
       "      <td>2670</td>\n",
       "      <td>7.2250</td>\n",
       "      <td>NaN</td>\n",
       "      <td>C</td>\n",
       "      <td>NaN</td>\n",
       "      <td>NaN</td>\n",
       "      <td>NaN</td>\n",
       "    </tr>\n",
       "    <tr>\n",
       "      <th>1308</th>\n",
       "      <td>3</td>\n",
       "      <td>0</td>\n",
       "      <td>Zimmerman, Mr. Leo</td>\n",
       "      <td>male</td>\n",
       "      <td>29.0000</td>\n",
       "      <td>0</td>\n",
       "      <td>0</td>\n",
       "      <td>315082</td>\n",
       "      <td>7.8750</td>\n",
       "      <td>NaN</td>\n",
       "      <td>S</td>\n",
       "      <td>NaN</td>\n",
       "      <td>NaN</td>\n",
       "      <td>NaN</td>\n",
       "    </tr>\n",
       "  </tbody>\n",
       "</table>\n",
       "<p>1309 rows × 14 columns</p>\n",
       "</div>"
      ],
      "text/plain": [
       "      pclass  survived                                             name  \\\n",
       "0          1         1                    Allen, Miss. Elisabeth Walton   \n",
       "1          1         1                   Allison, Master. Hudson Trevor   \n",
       "2          1         0                     Allison, Miss. Helen Loraine   \n",
       "3          1         0             Allison, Mr. Hudson Joshua Creighton   \n",
       "4          1         0  Allison, Mrs. Hudson J C (Bessie Waldo Daniels)   \n",
       "...      ...       ...                                              ...   \n",
       "1304       3         0                             Zabour, Miss. Hileni   \n",
       "1305       3         0                            Zabour, Miss. Thamine   \n",
       "1306       3         0                        Zakarian, Mr. Mapriededer   \n",
       "1307       3         0                              Zakarian, Mr. Ortin   \n",
       "1308       3         0                               Zimmerman, Mr. Leo   \n",
       "\n",
       "         sex      age  sibsp  parch  ticket      fare    cabin embarked boat  \\\n",
       "0     female  29.0000      0      0   24160  211.3375       B5        S    2   \n",
       "1       male   0.9167      1      2  113781  151.5500  C22 C26        S   11   \n",
       "2     female   2.0000      1      2  113781  151.5500  C22 C26        S  NaN   \n",
       "3       male  30.0000      1      2  113781  151.5500  C22 C26        S  NaN   \n",
       "4     female  25.0000      1      2  113781  151.5500  C22 C26        S  NaN   \n",
       "...      ...      ...    ...    ...     ...       ...      ...      ...  ...   \n",
       "1304  female  14.5000      1      0    2665   14.4542      NaN        C  NaN   \n",
       "1305  female      NaN      1      0    2665   14.4542      NaN        C  NaN   \n",
       "1306    male  26.5000      0      0    2656    7.2250      NaN        C  NaN   \n",
       "1307    male  27.0000      0      0    2670    7.2250      NaN        C  NaN   \n",
       "1308    male  29.0000      0      0  315082    7.8750      NaN        S  NaN   \n",
       "\n",
       "       body                        home.dest  \n",
       "0       NaN                     St Louis, MO  \n",
       "1       NaN  Montreal, PQ / Chesterville, ON  \n",
       "2       NaN  Montreal, PQ / Chesterville, ON  \n",
       "3     135.0  Montreal, PQ / Chesterville, ON  \n",
       "4       NaN  Montreal, PQ / Chesterville, ON  \n",
       "...     ...                              ...  \n",
       "1304  328.0                              NaN  \n",
       "1305    NaN                              NaN  \n",
       "1306  304.0                              NaN  \n",
       "1307    NaN                              NaN  \n",
       "1308    NaN                              NaN  \n",
       "\n",
       "[1309 rows x 14 columns]"
      ]
     },
     "execution_count": 95,
     "metadata": {},
     "output_type": "execute_result"
    }
   ],
   "source": [
    "# Run the data frame\n",
    "df"
   ]
  },
  {
   "cell_type": "code",
   "execution_count": 96,
   "id": "0b1373cf",
   "metadata": {},
   "outputs": [
    {
     "data": {
      "text/html": [
       "<div>\n",
       "<style scoped>\n",
       "    .dataframe tbody tr th:only-of-type {\n",
       "        vertical-align: middle;\n",
       "    }\n",
       "\n",
       "    .dataframe tbody tr th {\n",
       "        vertical-align: top;\n",
       "    }\n",
       "\n",
       "    .dataframe thead th {\n",
       "        text-align: right;\n",
       "    }\n",
       "</style>\n",
       "<table border=\"1\" class=\"dataframe\">\n",
       "  <thead>\n",
       "    <tr style=\"text-align: right;\">\n",
       "      <th></th>\n",
       "      <th>pclass</th>\n",
       "      <th>survived</th>\n",
       "      <th>age</th>\n",
       "      <th>sibsp</th>\n",
       "      <th>parch</th>\n",
       "      <th>fare</th>\n",
       "      <th>body</th>\n",
       "    </tr>\n",
       "  </thead>\n",
       "  <tbody>\n",
       "    <tr>\n",
       "      <th>count</th>\n",
       "      <td>1309.000000</td>\n",
       "      <td>1309.000000</td>\n",
       "      <td>1046.000000</td>\n",
       "      <td>1309.000000</td>\n",
       "      <td>1309.000000</td>\n",
       "      <td>1308.000000</td>\n",
       "      <td>121.000000</td>\n",
       "    </tr>\n",
       "    <tr>\n",
       "      <th>mean</th>\n",
       "      <td>2.294882</td>\n",
       "      <td>0.381971</td>\n",
       "      <td>29.881135</td>\n",
       "      <td>0.498854</td>\n",
       "      <td>0.385027</td>\n",
       "      <td>33.295479</td>\n",
       "      <td>160.809917</td>\n",
       "    </tr>\n",
       "    <tr>\n",
       "      <th>std</th>\n",
       "      <td>0.837836</td>\n",
       "      <td>0.486055</td>\n",
       "      <td>14.413500</td>\n",
       "      <td>1.041658</td>\n",
       "      <td>0.865560</td>\n",
       "      <td>51.758668</td>\n",
       "      <td>97.696922</td>\n",
       "    </tr>\n",
       "    <tr>\n",
       "      <th>min</th>\n",
       "      <td>1.000000</td>\n",
       "      <td>0.000000</td>\n",
       "      <td>0.166700</td>\n",
       "      <td>0.000000</td>\n",
       "      <td>0.000000</td>\n",
       "      <td>0.000000</td>\n",
       "      <td>1.000000</td>\n",
       "    </tr>\n",
       "    <tr>\n",
       "      <th>25%</th>\n",
       "      <td>2.000000</td>\n",
       "      <td>0.000000</td>\n",
       "      <td>21.000000</td>\n",
       "      <td>0.000000</td>\n",
       "      <td>0.000000</td>\n",
       "      <td>7.895800</td>\n",
       "      <td>72.000000</td>\n",
       "    </tr>\n",
       "    <tr>\n",
       "      <th>50%</th>\n",
       "      <td>3.000000</td>\n",
       "      <td>0.000000</td>\n",
       "      <td>28.000000</td>\n",
       "      <td>0.000000</td>\n",
       "      <td>0.000000</td>\n",
       "      <td>14.454200</td>\n",
       "      <td>155.000000</td>\n",
       "    </tr>\n",
       "    <tr>\n",
       "      <th>75%</th>\n",
       "      <td>3.000000</td>\n",
       "      <td>1.000000</td>\n",
       "      <td>39.000000</td>\n",
       "      <td>1.000000</td>\n",
       "      <td>0.000000</td>\n",
       "      <td>31.275000</td>\n",
       "      <td>256.000000</td>\n",
       "    </tr>\n",
       "    <tr>\n",
       "      <th>max</th>\n",
       "      <td>3.000000</td>\n",
       "      <td>1.000000</td>\n",
       "      <td>80.000000</td>\n",
       "      <td>8.000000</td>\n",
       "      <td>9.000000</td>\n",
       "      <td>512.329200</td>\n",
       "      <td>328.000000</td>\n",
       "    </tr>\n",
       "  </tbody>\n",
       "</table>\n",
       "</div>"
      ],
      "text/plain": [
       "            pclass     survived          age        sibsp        parch  \\\n",
       "count  1309.000000  1309.000000  1046.000000  1309.000000  1309.000000   \n",
       "mean      2.294882     0.381971    29.881135     0.498854     0.385027   \n",
       "std       0.837836     0.486055    14.413500     1.041658     0.865560   \n",
       "min       1.000000     0.000000     0.166700     0.000000     0.000000   \n",
       "25%       2.000000     0.000000    21.000000     0.000000     0.000000   \n",
       "50%       3.000000     0.000000    28.000000     0.000000     0.000000   \n",
       "75%       3.000000     1.000000    39.000000     1.000000     0.000000   \n",
       "max       3.000000     1.000000    80.000000     8.000000     9.000000   \n",
       "\n",
       "              fare        body  \n",
       "count  1308.000000  121.000000  \n",
       "mean     33.295479  160.809917  \n",
       "std      51.758668   97.696922  \n",
       "min       0.000000    1.000000  \n",
       "25%       7.895800   72.000000  \n",
       "50%      14.454200  155.000000  \n",
       "75%      31.275000  256.000000  \n",
       "max     512.329200  328.000000  "
      ]
     },
     "execution_count": 96,
     "metadata": {},
     "output_type": "execute_result"
    }
   ],
   "source": [
    "# Analyze the data frame with 'describe'\n",
    "df.describe()"
   ]
  },
  {
   "cell_type": "code",
   "execution_count": 97,
   "id": "a7031e36",
   "metadata": {},
   "outputs": [
    {
     "name": "stdout",
     "output_type": "stream",
     "text": [
      "<class 'pandas.core.frame.DataFrame'>\n",
      "RangeIndex: 1309 entries, 0 to 1308\n",
      "Data columns (total 14 columns):\n",
      " #   Column     Non-Null Count  Dtype  \n",
      "---  ------     --------------  -----  \n",
      " 0   pclass     1309 non-null   int64  \n",
      " 1   survived   1309 non-null   int64  \n",
      " 2   name       1309 non-null   object \n",
      " 3   sex        1309 non-null   object \n",
      " 4   age        1046 non-null   float64\n",
      " 5   sibsp      1309 non-null   int64  \n",
      " 6   parch      1309 non-null   int64  \n",
      " 7   ticket     1309 non-null   object \n",
      " 8   fare       1308 non-null   float64\n",
      " 9   cabin      295 non-null    object \n",
      " 10  embarked   1307 non-null   object \n",
      " 11  boat       486 non-null    object \n",
      " 12  body       121 non-null    float64\n",
      " 13  home.dest  745 non-null    object \n",
      "dtypes: float64(3), int64(4), object(7)\n",
      "memory usage: 143.3+ KB\n"
     ]
    }
   ],
   "source": [
    "# Analyze the data frame with 'info'\n",
    "df.info()"
   ]
  },
  {
   "cell_type": "code",
   "execution_count": 98,
   "id": "a089d132",
   "metadata": {},
   "outputs": [
    {
     "data": {
      "text/plain": [
       "array([[<AxesSubplot:title={'center':'pclass'}>,\n",
       "        <AxesSubplot:title={'center':'survived'}>,\n",
       "        <AxesSubplot:title={'center':'age'}>],\n",
       "       [<AxesSubplot:title={'center':'sibsp'}>,\n",
       "        <AxesSubplot:title={'center':'parch'}>,\n",
       "        <AxesSubplot:title={'center':'fare'}>],\n",
       "       [<AxesSubplot:title={'center':'body'}>, <AxesSubplot:>,\n",
       "        <AxesSubplot:>]], dtype=object)"
      ]
     },
     "execution_count": 98,
     "metadata": {},
     "output_type": "execute_result"
    },
    {
     "data": {
      "image/png": "[encoded data removed]",
      "text/plain": [
       "<Figure size 864x864 with 9 Axes>"
      ]
     },
     "metadata": {
      "needs_background": "light"
     },
     "output_type": "display_data"
    }
   ],
   "source": [
    "# Charts generated on data frame, such as a histogram\n",
    "df.hist(figsize=(12,12))"
   ]
  },
  {
   "cell_type": "code",
   "execution_count": 99,
   "id": "16767375",
   "metadata": {},
   "outputs": [],
   "source": [
    "# Load a chart/graph library\n",
    "import seaborn as sns"
   ]
  },
  {
   "cell_type": "code",
   "execution_count": 100,
   "id": "0e806960",
   "metadata": {
    "scrolled": true
   },
   "outputs": [
    {
     "data": {
      "text/plain": [
       "<AxesSubplot:xlabel='sex', ylabel='count'>"
      ]
     },
     "execution_count": 100,
     "metadata": {},
     "output_type": "execute_result"
    },
    {
     "data": {
      "image/png": "[encoded data removed]",
      "text/plain": [
       "<Figure size 432x288 with 1 Axes>"
      ]
     },
     "metadata": {
      "needs_background": "light"
     },
     "output_type": "display_data"
    }
   ],
   "source": [
    "# Create a bar chart that plots survivors by gender\n",
    "sns.countplot(data=df, x='sex', hue='survived')"
   ]
  },
  {
   "cell_type": "code",
   "execution_count": 104,
   "id": "9ffa7714",
   "metadata": {},
   "outputs": [
    {
     "ename": "SyntaxError",
     "evalue": "invalid syntax (2/ipykernel_23728/2698759169.py, line 1)",
     "output_type": "error",
     "traceback": [
      "\u001b[1;36m  File \u001b[1;32m\"C:\\Users\\E030002\\AppData\\Local\\Temp\\2/ipykernel_23728/2698759169.py\"\u001b[1;36m, line \u001b[1;32m1\u001b[0m\n\u001b[1;33m    echo \"# python-work\" >> README.md\u001b[0m\n\u001b[1;37m         ^\u001b[0m\n\u001b[1;31mSyntaxError\u001b[0m\u001b[1;31m:\u001b[0m invalid syntax\n"
     ]
    }
   ],
   "source": [
    "echo \"# python-work\" >> README.md\n",
    "git init\n",
    "git add README.md\n",
    "git commit -m \"first commit\"\n",
    "git branch -M \"main\"\n",
    "git remote add origin https://github.com/pables-lge/python-work.git\n",
    "git push -u origin \"main\""
   ]
  },
  {
   "cell_type": "code",
   "execution_count": null,
   "id": "47cbcb52",
   "metadata": {},
   "outputs": [],
   "source": []
  }
 ],
 "metadata": {
  "kernelspec": {
   "display_name": "Python 3 (ipykernel)",
   "language": "python",
   "name": "python3"
  },
  "language_info": {
   "codemirror_mode": {
    "name": "ipython",
    "version": 3
   },
   "file_extension": ".py",
   "mimetype": "text/x-python",
   "name": "python",
   "nbconvert_exporter": "python",
   "pygments_lexer": "ipython3",
   "version": "3.9.7"
  }
 },
 "nbformat": 4,
 "nbformat_minor": 5
}
